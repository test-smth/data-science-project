{
 "cells": [
  {
   "cell_type": "markdown",
   "metadata": {
    "id": "M-DGa20PaHnu"
   },
   "source": [
    "#Задача 1\n",
    "Написать функцию на вход которой подается строка, состоящая из латинских букв.\n",
    "Функция должна вернуть количество гласных букв (a, e, i, o, u) в этой строке. Написать тесты для кода"
   ]
  },
  {
   "cell_type": "code",
   "execution_count": 40,
   "metadata": {
    "id": "XvX8X_JJ6PCb"
   },
   "outputs": [
    {
     "name": "stdout",
     "output_type": "stream",
     "text": [
      "5\n",
      "4\n",
      "2\n",
      "25\n"
     ]
    }
   ],
   "source": [
    "def Task1(string: str):\n",
    "    alphabet = ['a', 'e', 'i', 'o', 'u']\n",
    "    cnt = 0;\n",
    "    for i in alphabet:\n",
    "        cnt += string.count(i)\n",
    "    return cnt\n",
    "\n",
    "#Проверим\n",
    "print(Task1('aeiou'))\n",
    "print(Task1('One two three'))\n",
    "print(Task1('Im hero'))\n",
    "print(Task1('aaaaa_eeeee_iiiii_ooooo_uuuuu'))"
   ]
  },
  {
   "cell_type": "markdown",
   "metadata": {
    "id": "t2ClV_Y0bbr6"
   },
   "source": [
    "# Задача 2\n",
    "Написать функцию на вход, которой подается строка. Функция должна вернуть true, если\n",
    "каждый символ в строке встречается только 1 раз, иначе должна вернуть false. Написать тесты для кода"
   ]
  },
  {
   "cell_type": "code",
   "execution_count": 20,
   "metadata": {
    "id": "FppbECao6VIz"
   },
   "outputs": [
    {
     "name": "stdout",
     "output_type": "stream",
     "text": [
      "True\n",
      "False\n",
      "False\n"
     ]
    }
   ],
   "source": [
    "def Task2(string: str):\n",
    "    text = list(string)\n",
    "    filters = set(text)\n",
    "    result = len(filters) == len(text)\n",
    "    return(result)\n",
    "    \n",
    "#Проверим\n",
    "print(Task2('One two'))\n",
    "print(Task2('one two'))\n",
    "print(Task2('10 12'))"
   ]
  },
  {
   "cell_type": "markdown",
   "metadata": {
    "id": "udRiIK1cdt6E"
   },
   "source": [
    "# Задача 3\n",
    "Написать функцию, которая принимает положительное число и возвращает количество\n",
    "бит равных 1 в этом числе. Написать тесты для кода"
   ]
  },
  {
   "cell_type": "code",
   "execution_count": 41,
   "metadata": {
    "id": "6tkfDJRz6dp_"
   },
   "outputs": [
    {
     "name": "stdout",
     "output_type": "stream",
     "text": [
      "0 0b0\n",
      "1 0b1\n",
      "0 0b1\n",
      "1 0b0\n"
     ]
    },
    {
     "ename": "Exception",
     "evalue": "Ошибка! Значение не положительное",
     "output_type": "error",
     "traceback": [
      "\u001b[1;31m---------------------------------------------------------------------------\u001b[0m",
      "\u001b[1;31mException\u001b[0m                                 Traceback (most recent call last)",
      "Cell \u001b[1;32mIn[41], line 12\u001b[0m\n\u001b[0;32m     10\u001b[0m \u001b[38;5;28mprint\u001b[39m(Task3(\u001b[38;5;241m0\u001b[39m), \u001b[38;5;28mbin\u001b[39m(\u001b[38;5;241m1\u001b[39m))\n\u001b[0;32m     11\u001b[0m \u001b[38;5;28mprint\u001b[39m(Task3(\u001b[38;5;241m1\u001b[39m) ,\u001b[38;5;28mbin\u001b[39m(\u001b[38;5;241m0\u001b[39m))\n\u001b[1;32m---> 12\u001b[0m \u001b[38;5;28mprint\u001b[39m(\u001b[43mTask3\u001b[49m\u001b[43m(\u001b[49m\u001b[38;5;241;43m-\u001b[39;49m\u001b[38;5;241;43m1\u001b[39;49m\u001b[43m)\u001b[49m)\n",
      "Cell \u001b[1;32mIn[41], line 3\u001b[0m, in \u001b[0;36mTask3\u001b[1;34m(number)\u001b[0m\n\u001b[0;32m      1\u001b[0m \u001b[38;5;28;01mdef\u001b[39;00m \u001b[38;5;21mTask3\u001b[39m(number: \u001b[38;5;28mint\u001b[39m):\n\u001b[0;32m      2\u001b[0m     \u001b[38;5;28;01mif\u001b[39;00m number \u001b[38;5;241m<\u001b[39m \u001b[38;5;241m0\u001b[39m:\n\u001b[1;32m----> 3\u001b[0m         \u001b[38;5;28;01mraise\u001b[39;00m \u001b[38;5;167;01mException\u001b[39;00m(\u001b[38;5;124m\"\u001b[39m\u001b[38;5;124mОшибка! Значение не положительное\u001b[39m\u001b[38;5;124m\"\u001b[39m)\n\u001b[0;32m      4\u001b[0m     binNumb \u001b[38;5;241m=\u001b[39m \u001b[38;5;28mbin\u001b[39m(number)[\u001b[38;5;241m2\u001b[39m:]\n\u001b[0;32m      5\u001b[0m     \u001b[38;5;28;01mreturn\u001b[39;00m binNumb\u001b[38;5;241m.\u001b[39mcount(\u001b[38;5;124m\"\u001b[39m\u001b[38;5;124m1\u001b[39m\u001b[38;5;124m\"\u001b[39m)\n",
      "\u001b[1;31mException\u001b[0m: Ошибка! Значение не положительное"
     ]
    }
   ],
   "source": [
    "def Task3(number: int):\n",
    "    if number < 0:\n",
    "        raise Exception(\"Ошибка! Значение не положительное\")\n",
    "    binNumb = bin(number)[2:]\n",
    "    return binNumb.count(\"1\")\n",
    "\n",
    "#Проверим\n",
    "print(Task3(0), bin(0))\n",
    "print(Task3(1) ,bin(1))\n",
    "print(Task3(0), bin(1))\n",
    "print(Task3(1) ,bin(0))\n",
    "print(Task3(-1))"
   ]
  },
  {
   "cell_type": "markdown",
   "metadata": {
    "id": "26dDUz-Ae17N"
   },
   "source": [
    "# Задача 4\n",
    "Написать функцию, которая принимает положительное число. Функция должна вернуть то,\n",
    "сколько раз необходимо перемножать цифры числа или результат перемножения, чтобы\n",
    "получилось число состоящее из одной цифры.\n",
    "Например, для входного числа:\n",
    "· 39 функция должна вернуть 3, так как 3*9=27 => 2*7=14 => 1*4=4\n",
    "· 4 функция должна вернуть 0, так как число уже состоит из одной цифры\n",
    "· 999 функция должна вернуть 4, так как 9*9*9=729 => 7*2*9=126 => 1*2*6=12 =>\n",
    "1*2=2. Написать тесты для кода"
   ]
  },
  {
   "cell_type": "code",
   "execution_count": 48,
   "metadata": {
    "id": "BH1A_Mgi6i4G"
   },
   "outputs": [
    {
     "name": "stdout",
     "output_type": "stream",
     "text": [
      "3\n",
      "0\n",
      "4\n",
      "2\n"
     ]
    }
   ],
   "source": [
    "def Task4(number):\n",
    "    if number < 0:\n",
    "        raise Exception(\"Ошибка! Значение не положительное\")\n",
    "    cnt = 0;\n",
    "    while number >= 10:\n",
    "        cnt += 1\n",
    "        temp = 1\n",
    "        for i in str(number):\n",
    "            temp *= int(i)\n",
    "        number = temp\n",
    "    return cnt\n",
    "    \n",
    "#Проверим\n",
    "print(Task4(39))\n",
    "print(Task4(4))\n",
    "print(Task4(999))\n",
    "print(Task4(12345))"
   ]
  },
  {
   "cell_type": "markdown",
   "metadata": {
    "id": "0nS-kIa8g8vd"
   },
   "source": [
    "# Задача 5\n",
    "Написать функцию, которая принимает два целочисленных вектора одинаковой длины и\n",
    "возвращает среднеквадратическое отклонение двух векторов. Написать тесты для кода"
   ]
  },
  {
   "cell_type": "code",
   "execution_count": 87,
   "metadata": {
    "id": "8iphx4LM6xbx"
   },
   "outputs": [
    {
     "name": "stdout",
     "output_type": "stream",
     "text": [
      "1.0\n",
      "16.0\n"
     ]
    }
   ],
   "source": [
    "import math\n",
    "def mse(pred, true):\n",
    "    sum1 = 0\n",
    "    sum2 = 0\n",
    "    for i in pred:\n",
    "        sum1 += i**2\n",
    "    for i in true:\n",
    "        sum2 += i**2\n",
    "    \n",
    "    if math.sqrt(sum1) != math.sqrt(sum2) or len(pred) != len(true):\n",
    "        raise Exception('Длины векторов не равны')\n",
    "    \n",
    "    squaredDifference = []\n",
    "    for i in range(len(pred)):\n",
    "        squaredDifference.append((pred[i] - true[i]) ** 2)\n",
    "    \n",
    "    return(sum(squaredDifference) / len(squaredDifference))\n",
    "\n",
    "print(mse([1, 2], [2, 1]))\n",
    "print(mse([1, 5], [5, 1]))\n",
    "#Не до конца понял задание, помог друг"
   ]
  },
  {
   "cell_type": "markdown",
   "metadata": {
    "id": "vpIPKL439zkw"
   },
   "source": [
    "# Задача 6\n",
    "Написать функцию, принимающая целое положительное число. Функция должна вернуть\n",
    "строку вида “(n1**p1)(n2**p2)…(nk**pk)” представляющая разложение числа на простые\n",
    "множители (если pi == 1, то выводить только ni).\n",
    "Например, для числа 86240 функция должна вернуть “(2**5)(5)(7**2)(11)”. Написать тесты для кода"
   ]
  },
  {
   "cell_type": "code",
   "execution_count": 61,
   "metadata": {
    "id": "pFebmcZk94Jw"
   },
   "outputs": [
    {
     "name": "stdout",
     "output_type": "stream",
     "text": [
      "(2**5)(5)(7**2)(11)\n",
      "(5**2)\n",
      "(2**2)(13)\n",
      "(2**2)(5**2)\n",
      "(3)(7)(37)\n"
     ]
    }
   ],
   "source": [
    "def Task6(number):\n",
    "    multipliers = []\n",
    "    result = \"\"\n",
    "    m = 2\n",
    "    while m*m <= number:\n",
    "        if number % m == 0:\n",
    "            multipliers.append(m)\n",
    "            number //= m\n",
    "        else:\n",
    "            m += 1\n",
    "    if number > 1:\n",
    "        multipliers.append(number)\n",
    "    \n",
    "    for i in (sorted(set(multipliers))):\n",
    "        if multipliers.count(i) == 1:\n",
    "            result += f'({i})'\n",
    "        else: result += f'({i}**{multipliers.count(i)})'\n",
    "    return result\n",
    "\n",
    "#Проверим\n",
    "print(Task6(86240))\n",
    "print(Task6(25))\n",
    "print(Task6(52))\n",
    "print(Task6(100))\n",
    "print(Task6(777))"
   ]
  },
  {
   "cell_type": "markdown",
   "metadata": {
    "id": "ps2s0BudX7A2"
   },
   "source": [
    "# Задача 7\n",
    "Написать функцию, принимающая целое число n, задающее количество кубиков. Функция\n",
    "должна определить, можно ли из данного кол-ва кубиков построить пирамиду, то есть\n",
    "можно ли представить число n как 1^2+2^2+3^2+…+k^2. Если можно, то функция должна\n",
    "вернуть k, иначе строку “It is impossible”. Написать тесты для кода"
   ]
  },
  {
   "cell_type": "code",
   "execution_count": 76,
   "metadata": {
    "id": "3YPjEXxhX_YT"
   },
   "outputs": [
    {
     "name": "stdout",
     "output_type": "stream",
     "text": [
      "0\n",
      "1\n",
      "3\n",
      "6\n",
      "It is impossible\n"
     ]
    }
   ],
   "source": [
    "def pyramid(n):\n",
    "    k = 1\n",
    "    sum = 0;\n",
    "    while sum < n:\n",
    "        sum += k**2\n",
    "        k += 1\n",
    "\n",
    "    if sum == n:\n",
    "        return(k - 1)\n",
    "    else: \n",
    "        return(\"It is impossible\")\n",
    "\n",
    "#Проверим\n",
    "print(pyramid(0))\n",
    "print(pyramid(1))\n",
    "print(pyramid(14))\n",
    "print(pyramid(91))\n",
    "print(pyramid(-91))"
   ]
  },
  {
   "cell_type": "markdown",
   "metadata": {
    "id": "KeKgmIdAQMEJ"
   },
   "source": [
    "# Задача 8\n",
    "Функция принимает на вход положительное число и определяет является ли оно сбалансированным, т.е. сумма цифр до средних равна сумме цифр после. Средними в случае нечетного числа цифр считать одну цифру, в случае четного - две средних. Написать тесты для кода"
   ]
  },
  {
   "cell_type": "code",
   "execution_count": 85,
   "metadata": {
    "id": "gMAAqtqlQrZt"
   },
   "outputs": [
    {
     "name": "stdout",
     "output_type": "stream",
     "text": [
      "False\n",
      "True\n",
      "True\n"
     ]
    }
   ],
   "source": [
    "def Task8(number):\n",
    "    number = str(number)\n",
    "    middle = len(number) // 2\n",
    "    \n",
    "    if len(number) % 2 == 0:\n",
    "        first = number[:middle - 1]\n",
    "        second = number[middle + 1:]\n",
    "    else:\n",
    "        first = number[:middle]\n",
    "        second = number[middle + 1:]\n",
    "        \n",
    "    return sum(\n",
    "        int(i) for i in first\n",
    "    ) == sum(\n",
    "        int(j) for j in second\n",
    "    )\n",
    "\n",
    "#Проверим\n",
    "print(Task8(123456))\n",
    "print(Task8(11111))\n",
    "print(Task8(10001))"
   ]
  },
  {
   "cell_type": "code",
   "execution_count": null,
   "metadata": {},
   "outputs": [],
   "source": []
  }
 ],
 "metadata": {
  "colab": {
   "provenance": []
  },
  "kernelspec": {
   "display_name": "Python 3 (ipykernel)",
   "language": "python",
   "name": "python3"
  },
  "language_info": {
   "codemirror_mode": {
    "name": "ipython",
    "version": 3
   },
   "file_extension": ".py",
   "mimetype": "text/x-python",
   "name": "python",
   "nbconvert_exporter": "python",
   "pygments_lexer": "ipython3",
   "version": "3.11.0"
  }
 },
 "nbformat": 4,
 "nbformat_minor": 4
}
